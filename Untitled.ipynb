{
 "cells": [
  {
   "cell_type": "code",
   "execution_count": 3,
   "metadata": {},
   "outputs": [],
   "source": [
    "import mbuild as mb\n",
    "import "
   ]
  },
  {
   "cell_type": "code",
   "execution_count": 6,
   "metadata": {},
   "outputs": [
    {
     "name": "stderr",
     "output_type": "stream",
     "text": [
      "/home/zijiewu/mosdef_git/mbuild/mbuild/compound.py:2443: UserWarning: Guessing that \"<_BBA pos=( 0.0000, 0.0000, 0.0000), 0 bonds, id: 139725625037432>\" is element: \"EP\"\n",
      "  atom, element))\n",
      "/home/zijiewu/mosdef_git/mbuild/mbuild/compound.py:2443: UserWarning: Guessing that \"<_HBA pos=( 0.0370, 0.0000, 0.0000), 0 bonds, id: 139725624596296>\" is element: \"EP\"\n",
      "  atom, element))\n",
      "/home/zijiewu/mosdef_git/mbuild/mbuild/compound.py:2443: UserWarning: Guessing that \"<_BBT pos=(-0.0000,-0.0840, 0.0000), 0 bonds, id: 139725624598312>\" is element: \"EP\"\n",
      "  atom, element))\n",
      "/home/zijiewu/mosdef_git/mbuild/mbuild/compound.py:2443: UserWarning: Guessing that \"<_HBT pos=( 0.0370,-0.0840, 0.0000), 0 bonds, id: 139725624596856>\" is element: \"EP\"\n",
      "  atom, element))\n",
      "/home/zijiewu/mosdef_git/mbuild/mbuild/compound.py:2443: UserWarning: Guessing that \"<_BBG pos=(-0.0000,-0.1680, 0.0000), 0 bonds, id: 139725642427248>\" is element: \"EP\"\n",
      "  atom, element))\n",
      "/home/zijiewu/mosdef_git/mbuild/mbuild/compound.py:2443: UserWarning: Guessing that \"<_HBG pos=( 0.0370,-0.1680, 0.0000), 0 bonds, id: 139725624687304>\" is element: \"EP\"\n",
      "  atom, element))\n",
      "/home/zijiewu/mosdef_git/mbuild/mbuild/compound.py:2443: UserWarning: Guessing that \"<_BBC pos=(-0.0000,-0.2520, 0.0000), 0 bonds, id: 139725624754808>\" is element: \"EP\"\n",
      "  atom, element))\n",
      "/home/zijiewu/mosdef_git/mbuild/mbuild/compound.py:2443: UserWarning: Guessing that \"<_HBC pos=( 0.0370,-0.2520, 0.0000), 0 bonds, id: 139725624638376>\" is element: \"EP\"\n",
      "  atom, element))\n"
     ]
    }
   ],
   "source": [
    "test = mb.recipes.DNA_ds('ATGC')\n",
    "\n",
    "test.save('ds.mol2')"
   ]
  },
  {
   "cell_type": "code",
   "execution_count": 5,
   "metadata": {},
   "outputs": [
    {
     "data": {
      "application/3dmoljs_load.v0": "<div id=\"3dmolviewer_15894809029887214\"  style=\"position: relative; width: 640px; height: 480px\">\n        <p id=\"3dmolwarning_15894809029887214\" style=\"background-color:#ffcccc;color:black\">You appear to be running in JupyterLab (or JavaScript failed to load for some other reason).  You need to install the 3dmol extension: <br>\n        <tt>jupyter labextension install jupyterlab_3dmol</tt></p>\n        </div>\n<script>\n\nvar loadScriptAsync = function(uri){\n  return new Promise((resolve, reject) => {\n    var tag = document.createElement('script');\n    tag.src = uri;\n    tag.async = true;\n    tag.onload = () => {\n      resolve();\n    };\n  var firstScriptTag = document.getElementsByTagName('script')[0];\n  firstScriptTag.parentNode.insertBefore(tag, firstScriptTag);\n});\n};\n\nif(typeof $3Dmolpromise === 'undefined') {\n$3Dmolpromise = null;\n  $3Dmolpromise = loadScriptAsync('https://3dmol.csb.pitt.edu/build/3Dmol.js');\n}\n\nvar viewer_15894809029887214 = null;\nvar warn = document.getElementById(\"3dmolwarning_15894809029887214\");\nif(warn) {\n    warn.parentNode.removeChild(warn);\n}\n$3Dmolpromise.then(function() {\nviewer_15894809029887214 = $3Dmol.createViewer($(\"#3dmolviewer_15894809029887214\"),{backgroundColor:\"white\"});\n\tviewer_15894809029887214.addSphere({\"center\": {\"x\": 0.0, \"y\": 0.0, \"z\": 0.0}, \"radius\": 0.05, \"color\": \"0xff0000\", \"alpha\": 0.9});\n\tviewer_15894809029887214.addSphere({\"center\": {\"x\": 0.03699999999999999, \"y\": 8.537963114327349e-18, \"z\": 9.756705519846898e-19}, \"radius\": 0.022, \"color\": \"0x8b0000\", \"alpha\": 0.9});\n\tviewer_15894809029887214.addSphere({\"center\": {\"x\": -3.53093663214813e-18, \"y\": -0.08399999999999999, \"z\": 4.429739733458486e-18}, \"radius\": 0.05, \"color\": \"0xdaa520\", \"alpha\": 0.9});\n\tviewer_15894809029887214.addSphere({\"center\": {\"x\": 0.03699999999999998, \"y\": -0.08399999999999998, \"z\": 1.2981429933556818e-17}, \"radius\": 0.022, \"color\": \"0xd2691e\", \"alpha\": 0.9});\n\tviewer_15894809029887214.addSphere({\"center\": {\"x\": -2.0506786287934166e-17, \"y\": -0.16799999999999998, \"z\": 1.2138963003240186e-17}, \"radius\": 0.05, \"color\": \"0x696969\", \"alpha\": 0.9});\n\tviewer_15894809029887214.addSphere({\"center\": {\"x\": 0.03699999999999998, \"y\": -0.16799999999999998, \"z\": 2.422483558060556e-17}, \"radius\": 0.022, \"color\": \"0x2f4f4f\", \"alpha\": 0.9});\n\tviewer_15894809029887214.addSphere({\"center\": {\"x\": -6.059366675572171e-17, \"y\": -0.252, \"z\": 2.282878623396879e-17}, \"radius\": 0.05, \"color\": \"0x4bd1cc\", \"alpha\": 0.9});\n\tviewer_15894809029887214.addSphere({\"center\": {\"x\": 0.03699999999999992, \"y\": -0.252, \"z\": 4.503520763717513e-17}, \"radius\": 0.022, \"color\": \"0x008b8b\", \"alpha\": 0.9});\n\tviewer_15894809029887214.addSphere({\"center\": {\"x\": 0.11699999999993482, \"y\": 0.0, \"z\": 4.90914112076791e-08}, \"radius\": 0.05, \"color\": \"0xdaa520\", \"alpha\": 0.9});\n\tviewer_15894809029887214.addSphere({\"center\": {\"x\": 0.0800000000000651, \"y\": 0.0, \"z\": -4.9091411147347557e-08}, \"radius\": 0.022, \"color\": \"0xd2691e\", \"alpha\": 0.9});\n\tviewer_15894809029887214.addSphere({\"center\": {\"x\": 0.11699999999993482, \"y\": -0.08399999999999999, \"z\": 4.909141120324936e-08}, \"radius\": 0.05, \"color\": \"0xff0000\", \"alpha\": 0.9});\n\tviewer_15894809029887214.addSphere({\"center\": {\"x\": 0.0800000000000651, \"y\": -0.08399999999999998, \"z\": -4.909141115935328e-08}, \"radius\": 0.022, \"color\": \"0x8b0000\", \"alpha\": 0.9});\n\tviewer_15894809029887214.addSphere({\"center\": {\"x\": 0.11699999999993482, \"y\": -0.16799999999999998, \"z\": 4.909141119554017e-08}, \"radius\": 0.05, \"color\": \"0x4bd1cc\", \"alpha\": 0.9});\n\tviewer_15894809029887214.addSphere({\"center\": {\"x\": 0.0800000000000651, \"y\": -0.16799999999999998, \"z\": -4.909141117059669e-08}, \"radius\": 0.022, \"color\": \"0x008b8b\", \"alpha\": 0.9});\n\tviewer_15894809029887214.addSphere({\"center\": {\"x\": 0.11699999999993488, \"y\": -0.252, \"z\": 4.9091411184850456e-08}, \"radius\": 0.05, \"color\": \"0x696969\", \"alpha\": 0.9});\n\tviewer_15894809029887214.addSphere({\"center\": {\"x\": 0.08000000000006516, \"y\": -0.252, \"z\": -4.909141119140691e-08}, \"radius\": 0.022, \"color\": \"0x2f4f4f\", \"alpha\": 0.9});\n\tviewer_15894809029887214.zoomTo();\nviewer_15894809029887214.render();\n});\n</script>",
      "text/html": [
       "<div id=\"3dmolviewer_15894809029887214\"  style=\"position: relative; width: 640px; height: 480px\">\n",
       "        <p id=\"3dmolwarning_15894809029887214\" style=\"background-color:#ffcccc;color:black\">You appear to be running in JupyterLab (or JavaScript failed to load for some other reason).  You need to install the 3dmol extension: <br>\n",
       "        <tt>jupyter labextension install jupyterlab_3dmol</tt></p>\n",
       "        </div>\n",
       "<script>\n",
       "\n",
       "var loadScriptAsync = function(uri){\n",
       "  return new Promise((resolve, reject) => {\n",
       "    var tag = document.createElement('script');\n",
       "    tag.src = uri;\n",
       "    tag.async = true;\n",
       "    tag.onload = () => {\n",
       "      resolve();\n",
       "    };\n",
       "  var firstScriptTag = document.getElementsByTagName('script')[0];\n",
       "  firstScriptTag.parentNode.insertBefore(tag, firstScriptTag);\n",
       "});\n",
       "};\n",
       "\n",
       "if(typeof $3Dmolpromise === 'undefined') {\n",
       "$3Dmolpromise = null;\n",
       "  $3Dmolpromise = loadScriptAsync('https://3dmol.csb.pitt.edu/build/3Dmol.js');\n",
       "}\n",
       "\n",
       "var viewer_15894809029887214 = null;\n",
       "var warn = document.getElementById(\"3dmolwarning_15894809029887214\");\n",
       "if(warn) {\n",
       "    warn.parentNode.removeChild(warn);\n",
       "}\n",
       "$3Dmolpromise.then(function() {\n",
       "viewer_15894809029887214 = $3Dmol.createViewer($(\"#3dmolviewer_15894809029887214\"),{backgroundColor:\"white\"});\n",
       "\tviewer_15894809029887214.addSphere({\"center\": {\"x\": 0.0, \"y\": 0.0, \"z\": 0.0}, \"radius\": 0.05, \"color\": \"0xff0000\", \"alpha\": 0.9});\n",
       "\tviewer_15894809029887214.addSphere({\"center\": {\"x\": 0.03699999999999999, \"y\": 8.537963114327349e-18, \"z\": 9.756705519846898e-19}, \"radius\": 0.022, \"color\": \"0x8b0000\", \"alpha\": 0.9});\n",
       "\tviewer_15894809029887214.addSphere({\"center\": {\"x\": -3.53093663214813e-18, \"y\": -0.08399999999999999, \"z\": 4.429739733458486e-18}, \"radius\": 0.05, \"color\": \"0xdaa520\", \"alpha\": 0.9});\n",
       "\tviewer_15894809029887214.addSphere({\"center\": {\"x\": 0.03699999999999998, \"y\": -0.08399999999999998, \"z\": 1.2981429933556818e-17}, \"radius\": 0.022, \"color\": \"0xd2691e\", \"alpha\": 0.9});\n",
       "\tviewer_15894809029887214.addSphere({\"center\": {\"x\": -2.0506786287934166e-17, \"y\": -0.16799999999999998, \"z\": 1.2138963003240186e-17}, \"radius\": 0.05, \"color\": \"0x696969\", \"alpha\": 0.9});\n",
       "\tviewer_15894809029887214.addSphere({\"center\": {\"x\": 0.03699999999999998, \"y\": -0.16799999999999998, \"z\": 2.422483558060556e-17}, \"radius\": 0.022, \"color\": \"0x2f4f4f\", \"alpha\": 0.9});\n",
       "\tviewer_15894809029887214.addSphere({\"center\": {\"x\": -6.059366675572171e-17, \"y\": -0.252, \"z\": 2.282878623396879e-17}, \"radius\": 0.05, \"color\": \"0x4bd1cc\", \"alpha\": 0.9});\n",
       "\tviewer_15894809029887214.addSphere({\"center\": {\"x\": 0.03699999999999992, \"y\": -0.252, \"z\": 4.503520763717513e-17}, \"radius\": 0.022, \"color\": \"0x008b8b\", \"alpha\": 0.9});\n",
       "\tviewer_15894809029887214.addSphere({\"center\": {\"x\": 0.11699999999993482, \"y\": 0.0, \"z\": 4.90914112076791e-08}, \"radius\": 0.05, \"color\": \"0xdaa520\", \"alpha\": 0.9});\n",
       "\tviewer_15894809029887214.addSphere({\"center\": {\"x\": 0.0800000000000651, \"y\": 0.0, \"z\": -4.9091411147347557e-08}, \"radius\": 0.022, \"color\": \"0xd2691e\", \"alpha\": 0.9});\n",
       "\tviewer_15894809029887214.addSphere({\"center\": {\"x\": 0.11699999999993482, \"y\": -0.08399999999999999, \"z\": 4.909141120324936e-08}, \"radius\": 0.05, \"color\": \"0xff0000\", \"alpha\": 0.9});\n",
       "\tviewer_15894809029887214.addSphere({\"center\": {\"x\": 0.0800000000000651, \"y\": -0.08399999999999998, \"z\": -4.909141115935328e-08}, \"radius\": 0.022, \"color\": \"0x8b0000\", \"alpha\": 0.9});\n",
       "\tviewer_15894809029887214.addSphere({\"center\": {\"x\": 0.11699999999993482, \"y\": -0.16799999999999998, \"z\": 4.909141119554017e-08}, \"radius\": 0.05, \"color\": \"0x4bd1cc\", \"alpha\": 0.9});\n",
       "\tviewer_15894809029887214.addSphere({\"center\": {\"x\": 0.0800000000000651, \"y\": -0.16799999999999998, \"z\": -4.909141117059669e-08}, \"radius\": 0.022, \"color\": \"0x008b8b\", \"alpha\": 0.9});\n",
       "\tviewer_15894809029887214.addSphere({\"center\": {\"x\": 0.11699999999993488, \"y\": -0.252, \"z\": 4.9091411184850456e-08}, \"radius\": 0.05, \"color\": \"0x696969\", \"alpha\": 0.9});\n",
       "\tviewer_15894809029887214.addSphere({\"center\": {\"x\": 0.08000000000006516, \"y\": -0.252, \"z\": -4.909141119140691e-08}, \"radius\": 0.022, \"color\": \"0x2f4f4f\", \"alpha\": 0.9});\n",
       "\tviewer_15894809029887214.zoomTo();\n",
       "viewer_15894809029887214.render();\n",
       "});\n",
       "</script>"
      ]
     },
     "metadata": {},
     "output_type": "display_data"
    },
    {
     "data": {
      "application/3dmoljs_load.v0": "<div id=\"3dmolviewer_1589480903005423\"  style=\"position: relative; width: 640px; height: 480px\">\n        <p id=\"3dmolwarning_1589480903005423\" style=\"background-color:#ffcccc;color:black\">You appear to be running in JupyterLab (or JavaScript failed to load for some other reason).  You need to install the 3dmol extension: <br>\n        <tt>jupyter labextension install jupyterlab_3dmol</tt></p>\n        </div>\n<script>\n\nvar loadScriptAsync = function(uri){\n  return new Promise((resolve, reject) => {\n    var tag = document.createElement('script');\n    tag.src = uri;\n    tag.async = true;\n    tag.onload = () => {\n      resolve();\n    };\n  var firstScriptTag = document.getElementsByTagName('script')[0];\n  firstScriptTag.parentNode.insertBefore(tag, firstScriptTag);\n});\n};\n\nif(typeof $3Dmolpromise === 'undefined') {\n$3Dmolpromise = null;\n  $3Dmolpromise = loadScriptAsync('https://3dmol.csb.pitt.edu/build/3Dmol.js');\n}\n\nvar viewer_1589480903005423 = null;\nvar warn = document.getElementById(\"3dmolwarning_1589480903005423\");\nif(warn) {\n    warn.parentNode.removeChild(warn);\n}\n$3Dmolpromise.then(function() {\nviewer_1589480903005423 = $3Dmol.createViewer($(\"#3dmolviewer_1589480903005423\"),{backgroundColor:\"white\"});\n\tviewer_1589480903005423.addSphere({\"center\": {\"x\": 0.0, \"y\": 0.0, \"z\": 0.0}, \"radius\": 0.05, \"color\": \"0xff0000\", \"alpha\": 0.9});\n\tviewer_1589480903005423.addSphere({\"center\": {\"x\": 0.03699999999999999, \"y\": 8.537963114327349e-18, \"z\": 9.756705519846898e-19}, \"radius\": 0.022, \"color\": \"0x8b0000\", \"alpha\": 0.9});\n\tviewer_1589480903005423.addSphere({\"center\": {\"x\": -3.53093663214813e-18, \"y\": -0.08399999999999999, \"z\": 4.429739733458486e-18}, \"radius\": 0.05, \"color\": \"0xdaa520\", \"alpha\": 0.9});\n\tviewer_1589480903005423.addSphere({\"center\": {\"x\": 0.03699999999999998, \"y\": -0.08399999999999998, \"z\": 1.2981429933556818e-17}, \"radius\": 0.022, \"color\": \"0xd2691e\", \"alpha\": 0.9});\n\tviewer_1589480903005423.addSphere({\"center\": {\"x\": -2.0506786287934166e-17, \"y\": -0.16799999999999998, \"z\": 1.2138963003240186e-17}, \"radius\": 0.05, \"color\": \"0x696969\", \"alpha\": 0.9});\n\tviewer_1589480903005423.addSphere({\"center\": {\"x\": 0.03699999999999998, \"y\": -0.16799999999999998, \"z\": 2.422483558060556e-17}, \"radius\": 0.022, \"color\": \"0x2f4f4f\", \"alpha\": 0.9});\n\tviewer_1589480903005423.addSphere({\"center\": {\"x\": -6.059366675572171e-17, \"y\": -0.252, \"z\": 2.282878623396879e-17}, \"radius\": 0.05, \"color\": \"0x4bd1cc\", \"alpha\": 0.9});\n\tviewer_1589480903005423.addSphere({\"center\": {\"x\": 0.03699999999999992, \"y\": -0.252, \"z\": 4.503520763717513e-17}, \"radius\": 0.022, \"color\": \"0x008b8b\", \"alpha\": 0.9});\n\tviewer_1589480903005423.addSphere({\"center\": {\"x\": 0.11699999999993482, \"y\": 0.0, \"z\": 4.90914112076791e-08}, \"radius\": 0.05, \"color\": \"0xdaa520\", \"alpha\": 0.9});\n\tviewer_1589480903005423.addSphere({\"center\": {\"x\": 0.0800000000000651, \"y\": 0.0, \"z\": -4.9091411147347557e-08}, \"radius\": 0.022, \"color\": \"0xd2691e\", \"alpha\": 0.9});\n\tviewer_1589480903005423.addSphere({\"center\": {\"x\": 0.11699999999993482, \"y\": -0.08399999999999999, \"z\": 4.909141120324936e-08}, \"radius\": 0.05, \"color\": \"0xff0000\", \"alpha\": 0.9});\n\tviewer_1589480903005423.addSphere({\"center\": {\"x\": 0.0800000000000651, \"y\": -0.08399999999999998, \"z\": -4.909141115935328e-08}, \"radius\": 0.022, \"color\": \"0x8b0000\", \"alpha\": 0.9});\n\tviewer_1589480903005423.addSphere({\"center\": {\"x\": 0.11699999999993482, \"y\": -0.16799999999999998, \"z\": 4.909141119554017e-08}, \"radius\": 0.05, \"color\": \"0x4bd1cc\", \"alpha\": 0.9});\n\tviewer_1589480903005423.addSphere({\"center\": {\"x\": 0.0800000000000651, \"y\": -0.16799999999999998, \"z\": -4.909141117059669e-08}, \"radius\": 0.022, \"color\": \"0x008b8b\", \"alpha\": 0.9});\n\tviewer_1589480903005423.addSphere({\"center\": {\"x\": 0.11699999999993488, \"y\": -0.252, \"z\": 4.9091411184850456e-08}, \"radius\": 0.05, \"color\": \"0x696969\", \"alpha\": 0.9});\n\tviewer_1589480903005423.addSphere({\"center\": {\"x\": 0.08000000000006516, \"y\": -0.252, \"z\": -4.909141119140691e-08}, \"radius\": 0.022, \"color\": \"0x2f4f4f\", \"alpha\": 0.9});\n\tviewer_1589480903005423.zoomTo();\nviewer_1589480903005423.render();\n});\n</script>",
      "text/html": [
       "<div id=\"3dmolviewer_1589480903005423\"  style=\"position: relative; width: 640px; height: 480px\">\n",
       "        <p id=\"3dmolwarning_1589480903005423\" style=\"background-color:#ffcccc;color:black\">You appear to be running in JupyterLab (or JavaScript failed to load for some other reason).  You need to install the 3dmol extension: <br>\n",
       "        <tt>jupyter labextension install jupyterlab_3dmol</tt></p>\n",
       "        </div>\n",
       "<script>\n",
       "\n",
       "var loadScriptAsync = function(uri){\n",
       "  return new Promise((resolve, reject) => {\n",
       "    var tag = document.createElement('script');\n",
       "    tag.src = uri;\n",
       "    tag.async = true;\n",
       "    tag.onload = () => {\n",
       "      resolve();\n",
       "    };\n",
       "  var firstScriptTag = document.getElementsByTagName('script')[0];\n",
       "  firstScriptTag.parentNode.insertBefore(tag, firstScriptTag);\n",
       "});\n",
       "};\n",
       "\n",
       "if(typeof $3Dmolpromise === 'undefined') {\n",
       "$3Dmolpromise = null;\n",
       "  $3Dmolpromise = loadScriptAsync('https://3dmol.csb.pitt.edu/build/3Dmol.js');\n",
       "}\n",
       "\n",
       "var viewer_1589480903005423 = null;\n",
       "var warn = document.getElementById(\"3dmolwarning_1589480903005423\");\n",
       "if(warn) {\n",
       "    warn.parentNode.removeChild(warn);\n",
       "}\n",
       "$3Dmolpromise.then(function() {\n",
       "viewer_1589480903005423 = $3Dmol.createViewer($(\"#3dmolviewer_1589480903005423\"),{backgroundColor:\"white\"});\n",
       "\tviewer_1589480903005423.addSphere({\"center\": {\"x\": 0.0, \"y\": 0.0, \"z\": 0.0}, \"radius\": 0.05, \"color\": \"0xff0000\", \"alpha\": 0.9});\n",
       "\tviewer_1589480903005423.addSphere({\"center\": {\"x\": 0.03699999999999999, \"y\": 8.537963114327349e-18, \"z\": 9.756705519846898e-19}, \"radius\": 0.022, \"color\": \"0x8b0000\", \"alpha\": 0.9});\n",
       "\tviewer_1589480903005423.addSphere({\"center\": {\"x\": -3.53093663214813e-18, \"y\": -0.08399999999999999, \"z\": 4.429739733458486e-18}, \"radius\": 0.05, \"color\": \"0xdaa520\", \"alpha\": 0.9});\n",
       "\tviewer_1589480903005423.addSphere({\"center\": {\"x\": 0.03699999999999998, \"y\": -0.08399999999999998, \"z\": 1.2981429933556818e-17}, \"radius\": 0.022, \"color\": \"0xd2691e\", \"alpha\": 0.9});\n",
       "\tviewer_1589480903005423.addSphere({\"center\": {\"x\": -2.0506786287934166e-17, \"y\": -0.16799999999999998, \"z\": 1.2138963003240186e-17}, \"radius\": 0.05, \"color\": \"0x696969\", \"alpha\": 0.9});\n",
       "\tviewer_1589480903005423.addSphere({\"center\": {\"x\": 0.03699999999999998, \"y\": -0.16799999999999998, \"z\": 2.422483558060556e-17}, \"radius\": 0.022, \"color\": \"0x2f4f4f\", \"alpha\": 0.9});\n",
       "\tviewer_1589480903005423.addSphere({\"center\": {\"x\": -6.059366675572171e-17, \"y\": -0.252, \"z\": 2.282878623396879e-17}, \"radius\": 0.05, \"color\": \"0x4bd1cc\", \"alpha\": 0.9});\n",
       "\tviewer_1589480903005423.addSphere({\"center\": {\"x\": 0.03699999999999992, \"y\": -0.252, \"z\": 4.503520763717513e-17}, \"radius\": 0.022, \"color\": \"0x008b8b\", \"alpha\": 0.9});\n",
       "\tviewer_1589480903005423.addSphere({\"center\": {\"x\": 0.11699999999993482, \"y\": 0.0, \"z\": 4.90914112076791e-08}, \"radius\": 0.05, \"color\": \"0xdaa520\", \"alpha\": 0.9});\n",
       "\tviewer_1589480903005423.addSphere({\"center\": {\"x\": 0.0800000000000651, \"y\": 0.0, \"z\": -4.9091411147347557e-08}, \"radius\": 0.022, \"color\": \"0xd2691e\", \"alpha\": 0.9});\n",
       "\tviewer_1589480903005423.addSphere({\"center\": {\"x\": 0.11699999999993482, \"y\": -0.08399999999999999, \"z\": 4.909141120324936e-08}, \"radius\": 0.05, \"color\": \"0xff0000\", \"alpha\": 0.9});\n",
       "\tviewer_1589480903005423.addSphere({\"center\": {\"x\": 0.0800000000000651, \"y\": -0.08399999999999998, \"z\": -4.909141115935328e-08}, \"radius\": 0.022, \"color\": \"0x8b0000\", \"alpha\": 0.9});\n",
       "\tviewer_1589480903005423.addSphere({\"center\": {\"x\": 0.11699999999993482, \"y\": -0.16799999999999998, \"z\": 4.909141119554017e-08}, \"radius\": 0.05, \"color\": \"0x4bd1cc\", \"alpha\": 0.9});\n",
       "\tviewer_1589480903005423.addSphere({\"center\": {\"x\": 0.0800000000000651, \"y\": -0.16799999999999998, \"z\": -4.909141117059669e-08}, \"radius\": 0.022, \"color\": \"0x008b8b\", \"alpha\": 0.9});\n",
       "\tviewer_1589480903005423.addSphere({\"center\": {\"x\": 0.11699999999993488, \"y\": -0.252, \"z\": 4.9091411184850456e-08}, \"radius\": 0.05, \"color\": \"0x696969\", \"alpha\": 0.9});\n",
       "\tviewer_1589480903005423.addSphere({\"center\": {\"x\": 0.08000000000006516, \"y\": -0.252, \"z\": -4.909141119140691e-08}, \"radius\": 0.022, \"color\": \"0x2f4f4f\", \"alpha\": 0.9});\n",
       "\tviewer_1589480903005423.zoomTo();\n",
       "viewer_1589480903005423.render();\n",
       "});\n",
       "</script>"
      ]
     },
     "metadata": {},
     "output_type": "display_data"
    },
    {
     "data": {
      "text/plain": [
       "<py3Dmol.view at 0x7f14683f1a20>"
      ]
     },
     "execution_count": 5,
     "metadata": {},
     "output_type": "execute_result"
    }
   ],
   "source": [
    "test.visualize()"
   ]
  }
 ],
 "metadata": {
  "kernelspec": {
   "display_name": "Python 3",
   "language": "python",
   "name": "python3"
  },
  "language_info": {
   "codemirror_mode": {
    "name": "ipython",
    "version": 3
   },
   "file_extension": ".py",
   "mimetype": "text/x-python",
   "name": "python",
   "nbconvert_exporter": "python",
   "pygments_lexer": "ipython3",
   "version": "3.7.3"
  }
 },
 "nbformat": 4,
 "nbformat_minor": 2
}
